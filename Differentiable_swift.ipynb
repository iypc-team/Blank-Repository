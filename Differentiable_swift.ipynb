{
  "nbformat": 4,
  "nbformat_minor": 0,
  "metadata": {
    "colab": {
      "name": "Differentiable_swift.ipynb",
      "version": "0.3.2",
      "provenance": [],
      "private_outputs": true,
      "collapsed_sections": [],
      "include_colab_link": true
    },
    "kernelspec": {
      "name": "swift",
      "display_name": "Swift"
    }
  },
  "cells": [
    {
      "cell_type": "markdown",
      "metadata": {
        "id": "view-in-github",
        "colab_type": "text"
      },
      "source": [
        "<a href=\"https://colab.research.google.com/github/iypc-team/Swift/blob/master/Differentiable_swift.ipynb\" target=\"_parent\"><img src=\"https://colab.research.google.com/assets/colab-badge.svg\" alt=\"Open In Colab\"/></a>"
      ]
    },
    {
      "cell_type": "code",
      "metadata": {
        "id": "kZRlD4utdPuX",
        "colab_type": "code",
        "colab": {}
      },
      "source": [
        "import TensorFlow\n",
        "import Python\n",
        "\n",
        "struct Vector: Differentiable, AdditiveArithmetic {\n",
        "  var x, y, z: Float\n",
        "  init(_ x: Float, _ y: Float, _ z: Float) {\n",
        "    self.x = x\n",
        "    self.y = y\n",
        "    self.z = z\n",
        "  }\n",
        "}\n",
        "let v = Vector.init(1, 2, 3)\n",
        "let deltaV = gradient(at: v) {v in (v+v).x}\n",
        "print(\"deltaV:\", deltaV)\n"
      ],
      "execution_count": 0,
      "outputs": []
    },
    {
      "cell_type": "code",
      "metadata": {
        "id": "jWFHqgDTlxHf",
        "colab_type": "code",
        "colab": {}
      },
      "source": [
        "//  Example deep learning player\n",
        "struct DenseLayer: Differentiable {\n",
        "  //  These properties should have derivative values\n",
        "  var weight: Tensor<Float>\n",
        "  var bias: Tensor<Float>\n",
        "  //  These properties have no derivative values\n",
        "  @noDerivative var useBias: Bool = true\n",
        "  @noDerivative var previousWeight: Tensor<Float> = Tensor(0)\n",
        "\n",
        "  init(weight: Tensor<Float>, bias: Tensor<Float>) {\n",
        "    self.weight = weight\n",
        "    self.bias = bias\n",
        "  }\n",
        "\n",
        "  func call(_ input: Tensor<Float>) -> Tensor<Float> {\n",
        "    return matmul(input, weight) + bias\n",
        "  }\n",
        "}\n",
        "\n",
        "let dense = DenseLayer(weight: [[1,1],[1,1]], bias: [0,0])\n",
        "let deltaDense = gradient(at: dense) {dense in dense([[3,3]]).sum()}\n"
      ],
      "execution_count": 0,
      "outputs": []
    },
    {
      "cell_type": "code",
      "metadata": {
        "id": "EmNYxvB2lyLI",
        "colab_type": "code",
        "colab": {}
      },
      "source": [
        ""
      ],
      "execution_count": 0,
      "outputs": []
    },
    {
      "cell_type": "code",
      "metadata": {
        "id": "5NaaZ_h3lyx-",
        "colab_type": "code",
        "colab": {}
      },
      "source": [
        ""
      ],
      "execution_count": 0,
      "outputs": []
    }
  ]
}