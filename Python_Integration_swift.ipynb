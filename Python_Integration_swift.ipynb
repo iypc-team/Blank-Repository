{
  "nbformat": 4,
  "nbformat_minor": 0,
  "metadata": {
    "colab": {
      "name": "Python_Integration_swift.ipynb",
      "version": "0.3.2",
      "provenance": [],
      "collapsed_sections": [],
      "include_colab_link": true
    },
    "kernelspec": {
      "name": "swift",
      "display_name": "Swift"
    }
  },
  "cells": [
    {
      "cell_type": "markdown",
      "metadata": {
        "id": "view-in-github",
        "colab_type": "text"
      },
      "source": [
        "<a href=\"https://colab.research.google.com/github/iypc-team/Swift/blob/master/Python_Integration_swift.ipynb\" target=\"_parent\"><img src=\"https://colab.research.google.com/assets/colab-badge.svg\" alt=\"Open In Colab\"/></a>"
      ]
    },
    {
      "cell_type": "code",
      "metadata": {
        "id": "8GEkdk8t2ObT",
        "colab_type": "code",
        "outputId": "d97933a3-b95b-4e4a-ef93-822c1d4c5d52",
        "colab": {
          "base_uri": "https://localhost:8080/",
          "height": 217
        }
      },
      "source": [
        "import Foundation\n",
        "import TensorFlow\n",
        "import Python\n",
        "\n",
        "%include \"EnableIPythonDisplay.swift\"\n",
        "let plt = Python.import(\"matplotlib.pyplot\")\n",
        "let np = Python.import(\"numpy\")\n",
        "\n",
        "\n",
        "\n",
        "var zerosArray = np.zeros([4, 4])\n",
        "var onesArray = np.ones([4, 4])\n",
        "var vector = np.zeros([1,4])\n",
        "vector += np.pi\n",
        "\n",
        "zerosArray += (np.pi * 2)\n",
        "print(\"onesArray\", onesArray)\n",
        "onesArray *= vector\n",
        "\n",
        "print(\"vector:\", vector)\n",
        "//. print(zerosArray)\n",
        "print(\"onesArray * vector\", onesArray)\n",
        "print(zerosArray*=onesArray)\n"
      ],
      "execution_count": 0,
      "outputs": [
        {
          "output_type": "stream",
          "text": [
            "onesArray [[1. 1. 1. 1.]\r\n",
            " [1. 1. 1. 1.]\r\n",
            " [1. 1. 1. 1.]\r\n",
            " [1. 1. 1. 1.]]\r\n",
            "vector: [[3.14159265 3.14159265 3.14159265 3.14159265]]\r\n",
            "onesArray * vector [[3.14159265 3.14159265 3.14159265 3.14159265]\r\n",
            " [3.14159265 3.14159265 3.14159265 3.14159265]\r\n",
            " [3.14159265 3.14159265 3.14159265 3.14159265]\r\n",
            " [3.14159265 3.14159265 3.14159265 3.14159265]]\r\n",
            "()\r\n"
          ],
          "name": "stdout"
        }
      ]
    },
    {
      "cell_type": "code",
      "metadata": {
        "id": "hKMOf97A2zff",
        "colab_type": "code",
        "colab": {}
      },
      "source": [
        "import Foundation\n",
        "import FoundationNetworking\n",
        "import Dispatch\n",
        "\n",
        "let 😎 = Double.pi\n",
        "print(😎)\n",
        "let cos = Foundation.tanh(😎)\n",
        "print(cos)\n"
      ],
      "execution_count": 0,
      "outputs": []
    }
  ]
}