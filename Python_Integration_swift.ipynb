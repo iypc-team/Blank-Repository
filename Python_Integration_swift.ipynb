{
  "nbformat": 4,
  "nbformat_minor": 0,
  "metadata": {
    "colab": {
      "name": "Python_Integration_swift.ipynb",
      "version": "0.3.2",
      "provenance": [],
      "private_outputs": true,
      "collapsed_sections": [],
      "include_colab_link": true
    },
    "kernelspec": {
      "name": "swift",
      "display_name": "Swift"
    },
    "accelerator": "GPU"
  },
  "cells": [
    {
      "cell_type": "markdown",
      "metadata": {
        "id": "view-in-github",
        "colab_type": "text"
      },
      "source": [
        "<a href=\"https://colab.research.google.com/github/iypc-team/Swift/blob/master/Python_Integration_swift.ipynb\" target=\"_parent\"><img src=\"https://colab.research.google.com/assets/colab-badge.svg\" alt=\"Open In Colab\"/></a>"
      ]
    },
    {
      "cell_type": "code",
      "metadata": {
        "id": "8GEkdk8t2ObT",
        "colab_type": "code",
        "colab": {}
      },
      "source": [
        "import Dispatch\n",
        "import Foundation\n",
        "import FoundationNetworking\n",
        "import TensorFlow\n",
        "import Python\n",
        "\n",
        "%include \"EnableIPythonDisplay.swift\"\n",
        "let plt = Python.import(\"matplotlib.pyplot\")\n",
        "let np = Python.import(\"numpy\")\n",
        "//. let tf = TensorFlow\n"
      ],
      "execution_count": 0,
      "outputs": []
    },
    {
      "cell_type": "code",
      "metadata": {
        "id": "6BAaXQK92TW_",
        "colab_type": "code",
        "colab": {}
      },
      "source": [
        "//. Convert Swift types to Python\n",
        "let pythonInt: PythonObject = 42\n",
        "let pythonFloat: PythonObject = 2.0\n",
        "let pythonString: PythonObject = \"Hello Python!\"\n",
        "let pythonRange: PythonObject = PythonObject(1..<10)\n",
        "let pythonArray: PythonObject = [1,2,3,4]\n",
        "let pythonDict: PythonObject = [\"foo\":[0], \"bar\":[98,99]]\n",
        "var pythonMatrix: PythonObject = np.ones([4,4])\n",
        "\n",
        "\n",
        "\n",
        "print(\"pythonInt:\", pythonInt)\n",
        "print(\"pythonFloat:\", pythonFloat)\n",
        "pythonFloat + pythonInt\n",
        "print(\"pythonString:\", pythonString)\n",
        "print(\"pythonRange:\", pythonRange)\n",
        "print(\"pythonArray:\", pythonArray)\n",
        "print(pythonDict[\"foo\"], pythonDict[\"bar\"])\n",
        "print(\"pythonMatrix:\",\"\\n\", pythonMatrix)\n"
      ],
      "execution_count": 0,
      "outputs": []
    },
    {
      "cell_type": "code",
      "metadata": {
        "id": "pUwMdAHlR8Ns",
        "colab_type": "code",
        "colab": {}
      },
      "source": [
        "//. Convert Python objects back to Swift\n",
        "let swiftInt = Int(pythonInt)!\n",
        "let swiftFloat = Float(pythonFloat)!\n",
        "let swiftString = String(pythonString)!\n",
        "let swiftRange = Range<Int>(pythonRange)!\n",
        "let swiftArray: [Int] = Array(pythonArray)!\n",
        "let swiftDict: [String:[Int]] = Dictionary(pythonDict)!\n",
        "var swiftMatrix = Array(pythonMatrix) //. This needs work\n"
      ],
      "execution_count": 0,
      "outputs": []
    },
    {
      "cell_type": "code",
      "metadata": {
        "id": "4saPdrJoai_X",
        "colab_type": "code",
        "colab": {}
      },
      "source": [
        "print(swiftInt)\n",
        "print(swiftFloat)\n",
        "print(swiftString)\n",
        "print(swiftRange)\n",
        "print(swiftArray)\n",
        "print(\"swiftDict.keys:\", swiftDict.keys)\n",
        "print(swiftDict[\"foo\"]!)\n",
        "print(swiftDict[\"bar\"]!)\n",
        "print(swiftMatrix)\n"
      ],
      "execution_count": 0,
      "outputs": []
    }
  ]
}