{
  "nbformat": 4,
  "nbformat_minor": 0,
  "metadata": {
    "colab": {
      "name": "DifferentiableProtocol_swift.ipynb",
      "version": "0.3.2",
      "provenance": [],
      "collapsed_sections": [],
      "include_colab_link": true
    },
    "kernelspec": {
      "name": "swift",
      "display_name": "Swift"
    }
  },
  "cells": [
    {
      "cell_type": "markdown",
      "metadata": {
        "id": "view-in-github",
        "colab_type": "text"
      },
      "source": [
        "<a href=\"https://colab.research.google.com/github/iypc-team/Swift/blob/master/DifferentiableProtocol_swift.ipynb\" target=\"_parent\"><img src=\"https://colab.research.google.com/assets/colab-badge.svg\" alt=\"Open In Colab\"/></a>"
      ]
    },
    {
      "cell_type": "code",
      "metadata": {
        "id": "8GEkdk8t2ObT",
        "colab_type": "code",
        "colab": {
          "base_uri": "https://localhost:8080/",
          "height": 55
        },
        "outputId": "4ede3b8c-ea0d-4348-85a3-548a6a33710a"
      },
      "source": [
        "import TensorFlow\n",
        "import Python\n",
        "\n",
        "%include \"EnableIPythonDisplay.swift\"\n",
        "let plt = Python.import(\"matplotlib.pyplot\")\n",
        "\n",
        "print(plt.description)\n"
      ],
      "execution_count": 8,
      "outputs": [
        {
          "output_type": "stream",
          "text": [
            "<module 'matplotlib.pyplot' from '/usr/local/lib/python3.6/dist-packages/matplotlib/pyplot.py'>\r\n"
          ],
          "name": "stdout"
        }
      ]
    },
    {
      "cell_type": "code",
      "metadata": {
        "id": "lZlEIgYllzZz",
        "colab_type": "code",
        "colab": {
          "base_uri": "https://localhost:8080/",
          "height": 35
        },
        "outputId": "468ec114-d8a6-4c12-fb75-178514442d9c"
      },
      "source": [
        "/* WTF\n",
        "protocol Differentiable {\n",
        "  ///  A type representing differentiable value’s derivatives\n",
        "  associatedtype TangentVector: Differentiable & AdditiveArithmetic\n",
        "  ///  Moves self along the given direction\n",
        "  mutating func move(along direction: TangentVector )\n",
        "}\n",
        "*/\n",
        "print()"
      ],
      "execution_count": 9,
      "outputs": [
        {
          "output_type": "stream",
          "text": [
            "\r\n"
          ],
          "name": "stdout"
        }
      ]
    },
    {
      "cell_type": "code",
      "metadata": {
        "id": "GUr1wHrJqNlZ",
        "colab_type": "code",
        "colab": {}
      },
      "source": [
        "extension Differentiable where Self == TangentVector {\n",
        "  mutating func move(along direction: TangentVector) {\n",
        "    self += direction\n",
        "  }\n",
        "}"
      ],
      "execution_count": 0,
      "outputs": []
    },
    {
      "cell_type": "code",
      "metadata": {
        "id": "xBEAQqs1uFau",
        "colab_type": "code",
        "colab": {
          "base_uri": "https://localhost:8080/",
          "height": 245
        },
        "outputId": "5dbabab5-b351-4c56-88a6-5d44ca947d3b"
      },
      "source": [
        "extension Array: Differentiable where Elemement: Differentiable {\n",
        "  public struct TangentVector:\n",
        "}"
      ],
      "execution_count": 11,
      "outputs": [
        {
          "output_type": "error",
          "ename": "",
          "evalue": "ignored",
          "traceback": [
            "error: <Cell 11>:2:31: error: expected type\n  public struct TangentVector:\n                              ^\n                               <#type#>\n\nerror: <Cell 11>:2:31: error: expected '{' in struct\n  public struct TangentVector:\n                              ^\n\n"
          ]
        }
      ]
    },
    {
      "cell_type": "code",
      "metadata": {
        "id": "j1IkvAEmuLbq",
        "colab_type": "code",
        "colab": {}
      },
      "source": [
        ""
      ],
      "execution_count": 0,
      "outputs": []
    }
  ]
}