{
 "cells": [
  {
   "cell_type": "code",
   "execution_count": null,
   "id": "075e7438",
   "metadata": {},
   "outputs": [],
   "source": [
    "from AllInstalls_4 import *\n",
    "print()\n",
    "from JsonNumpyUtils import *\n",
    "print()\n",
    "from CV2Utils_2 import *\n",
    "from time import perf_counter"
   ]
  },
  {
   "cell_type": "code",
   "execution_count": null,
   "id": "c6fdc11f",
   "metadata": {},
   "outputs": [],
   "source": [
    "# AllMethodsDictionary = dict()\n",
    "# AllMethodsDictionary={'class':'AllInstalls4'}\n",
    "# print(AllMethodsDictionary)\n",
    "AllMethodsDictionary={'method':str, 'call':str}\n",
    "allFunctions = ai4.__all__\n",
    "for item in allFunctions:\n",
    "    print(item)\n",
    "    caller= 'ai4.' + str(item) + '()'\n",
    "    # print(caller)\n",
    "    AllMethodsDictionary.update(str(item))\n",
    "\n",
    "AllMethodsDictionary"
   ]
  },
  {
   "cell_type": "code",
   "execution_count": null,
   "id": "6337b73b",
   "metadata": {},
   "outputs": [],
   "source": [
    "for item in jnu.__all__:\n",
    "    allFunctions.append(item)\n",
    "for item in cvu.__all__:\n",
    "    allFunctions.append(item)\n",
    "print(len(allFunctions), 'functions')\n",
    "for item in allFunctions:\n",
    "    print(item)"
   ]
  }
 ],
 "metadata": {
  "kernelspec": {
   "display_name": "Python 3 (ipykernel)",
   "language": "python",
   "name": "python3"
  },
  "language_info": {
   "codemirror_mode": {
    "name": "ipython",
    "version": 3
   },
   "file_extension": ".py",
   "mimetype": "text/x-python",
   "name": "python",
   "nbconvert_exporter": "python",
   "pygments_lexer": "ipython3",
   "version": "3.7.12"
  }
 },
 "nbformat": 4,
 "nbformat_minor": 5
}
