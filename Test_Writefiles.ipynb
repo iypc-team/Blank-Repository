{
 "cells": [
  {
   "cell_type": "code",
   "execution_count": null,
   "id": "dfbdf0eb",
   "metadata": {},
   "outputs": [],
   "source": [
    "from AllInstalls_4 import *\n",
    "from JsonNumpyUtils import *\n",
    "from CV2Utils_2 import *\n",
    "from time import perf_counter"
   ]
  },
  {
   "cell_type": "code",
   "execution_count": null,
   "id": "7b8d5440",
   "metadata": {},
   "outputs": [],
   "source": [
    "\n",
    "allFunctions={}\n",
    "for item in ai4.__all__:\n",
    "    allFunctions.update\n",
    "for item in jnu.__all__:\n",
    "    allFunctions.append(item)\n",
    "for item in cvu.__all__:\n",
    "    allFunctions.append(item)\n",
    "print(len(allFunctions), 'functions')\n",
    "for item in allFunctions:\n",
    "    print(item)"
   ]
  }
 ],
 "metadata": {
  "kernelspec": {
   "display_name": "Python 3 (ipykernel)",
   "language": "python",
   "name": "python3"
  },
  "language_info": {
   "codemirror_mode": {
    "name": "ipython",
    "version": 3
   },
   "file_extension": ".py",
   "mimetype": "text/x-python",
   "name": "python",
   "nbconvert_exporter": "python",
   "pygments_lexer": "ipython3",
   "version": "3.7.12"
  }
 },
 "nbformat": 4,
 "nbformat_minor": 5
}
