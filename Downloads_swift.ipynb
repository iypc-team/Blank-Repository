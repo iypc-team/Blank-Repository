{
  "nbformat": 4,
  "nbformat_minor": 0,
  "metadata": {
    "colab": {
      "name": "Downloads_swift.ipynb",
      "version": "0.3.2",
      "provenance": [],
      "private_outputs": true,
      "collapsed_sections": [],
      "include_colab_link": true
    },
    "kernelspec": {
      "name": "swift",
      "display_name": "Swift"
    }
  },
  "cells": [
    {
      "cell_type": "markdown",
      "metadata": {
        "id": "view-in-github",
        "colab_type": "text"
      },
      "source": [
        "<a href=\"https://colab.research.google.com/github/iypc-team/Swift/blob/master/Downloads_swift.ipynb\" target=\"_parent\"><img src=\"https://colab.research.google.com/assets/colab-badge.svg\" alt=\"Open In Colab\"/></a>"
      ]
    },
    {
      "cell_type": "code",
      "metadata": {
        "id": "8GEkdk8t2ObT",
        "colab_type": "code",
        "colab": {}
      },
      "source": [
        "//. import TensorFlow\n",
        "import Python\n",
        "import Foundation\n",
        "import FoundationNetworking\n",
        "import Dispatch\n",
        "\n",
        "%include \"EnableIPythonDisplay.swift\"\n",
        "\n",
        "let py = Python.self\n",
        "let plt = Python.import(\"matplotlib.pyplot\")\n",
        "let fm = FileManager.default\n",
        "print(py.versionInfo)"
      ],
      "execution_count": 0,
      "outputs": []
    },
    {
      "cell_type": "code",
      "metadata": {
        "id": "JHu522CdbZBR",
        "colab_type": "code",
        "colab": {}
      },
      "source": [
        "class Download {\n",
        "  class func load(url: URL, to localURL: URL, completion: @escaping () -> ()) {\n",
        "    let sessionConfig = URLSessionConfiguration.default\n",
        "    let session = URLSession(configuration: sessionConfig)\n",
        "    let request = try! URLRequest(url: url, method: .get)\n",
        "    let task = session.downloadTask(with: request) { \n",
        "      (tempLocalURL, response, error) in\n",
        "      // success\n",
        "      if let tempLocalURL = tempLocalURL, error = nil {\n",
        "        if let statusCode = (response as HTTPURLResponse) ? .statusCode {\n",
        "          print(\"Success: \\(statusCode)\")\n",
        "        }\n",
        "        do {\n",
        "          try FileManager.default.copyItem(at: tempLocalURL, to: localURL)\n",
        "          completion()\n",
        "        } catch (let writeError) {\n",
        "          print(\"Air writing file \\(localURL): \\(writeError) \")\n",
        "        }\n",
        "        else {\n",
        "          print(\"Failure %@\", error?.localizedDescription)\n",
        "        }\n",
        "      }\n",
        "      taskResume()\n",
        "    }\n",
        "  }\n",
        "}"
      ],
      "execution_count": 0,
      "outputs": []
    },
    {
      "cell_type": "code",
      "metadata": {
        "id": "-Fd16wytqPbs",
        "colab_type": "code",
        "colab": {}
      },
      "source": [
        "var urll = NSURL(string: https://github.com/iypc-team/Swift/Starter)\n",
        "print(urll)\n",
        "Download.load(urll)\n"
      ],
      "execution_count": 0,
      "outputs": []
    },
    {
      "cell_type": "code",
      "metadata": {
        "id": "EQP7osKvC5Ii",
        "colab_type": "code",
        "colab": {}
      },
      "source": [
        "\n",
        "let stringData = \"\".data(using: String.Encoding.utf8)\n",
        "\n",
        "if fm.fileExists(atPath: \"/contents\") {\n",
        "  print(\"File exists\")\n",
        "} else {\n",
        "  print(\"Bullshit\")\n",
        "}\n",
        "\n",
        "print(stringData!)"
      ],
      "execution_count": 0,
      "outputs": []
    },
    {
      "cell_type": "code",
      "metadata": {
        "id": "sXcS6ZMPa8CE",
        "colab_type": "code",
        "colab": {}
      },
      "source": [
        "let url = \"https://github.com/iypc-team/Swift/Starter\"\n",
        "let githubSwift = URL(string: url)!\n",
        "let list = String(contentsOf: URL(string: url)!) \n",
        "p\n",
        "list"
      ],
      "execution_count": 0,
      "outputs": []
    },
    {
      "cell_type": "code",
      "metadata": {
        "id": "hKMOf97A2zff",
        "colab_type": "code",
        "colab": {}
      },
      "source": [
        "func download(from sourceString: String, to destinationString: String) {\n",
        "  if let source = URL(string: sourceString) {\n",
        "    print(\"Source OK\")\n",
        "    let content = try? String(contentsOf: source)\n",
        "    let destination = URL(fileURLWithPath: destinationString)\n",
        "    print(\"content:\", content)\n",
        "    print(\"destination:\", destination)\n",
        "  }\n",
        "}\n"
      ],
      "execution_count": 0,
      "outputs": []
    },
    {
      "cell_type": "code",
      "metadata": {
        "id": "-W97s4dYS3hz",
        "colab_type": "code",
        "colab": {}
      },
      "source": [
        "let url = \"https://github.com/iypc-team/Swift/Starter\"\n",
        "var fileDownload = \"\"\n",
        "\n",
        "download(from: url, to: fileDownload)\n"
      ],
      "execution_count": 0,
      "outputs": []
    }
  ]
}