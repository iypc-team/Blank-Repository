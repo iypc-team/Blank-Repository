{
  "nbformat": 4,
  "nbformat_minor": 0,
  "metadata": {
    "colab": {
      "name": "Network_swift.ipynb",
      "version": "0.3.2",
      "provenance": [],
      "collapsed_sections": [],
      "include_colab_link": true
    },
    "kernelspec": {
      "name": "swift",
      "display_name": "Swift"
    }
  },
  "cells": [
    {
      "cell_type": "markdown",
      "metadata": {
        "id": "view-in-github",
        "colab_type": "text"
      },
      "source": [
        "<a href=\"https://colab.research.google.com/github/iypc-team/Swift/blob/master/Network_swift.ipynb\" target=\"_parent\"><img src=\"https://colab.research.google.com/assets/colab-badge.svg\" alt=\"Open In Colab\"/></a>"
      ]
    },
    {
      "cell_type": "code",
      "metadata": {
        "id": "kZRlD4utdPuX",
        "colab_type": "code",
        "colab": {
          "base_uri": "https://localhost:8080/",
          "height": 155
        },
        "outputId": "167665f4-a307-4f0c-e502-351d3321bac2"
      },
      "source": [
        "import Foundation\n",
        "import CoreFoundation\n",
        "\n",
        "if let url = URL(string: \"https://www.iypc.biz\"){\n",
        "    if let proxySettingsUnmanaged = CFNetworkCopySystemProxySettings() {\n",
        "\n",
        "    }\n",
        "}"
      ],
      "execution_count": 10,
      "outputs": [
        {
          "output_type": "error",
          "ename": "",
          "evalue": "ignored",
          "traceback": [
            "error: <Cell 10>:5:37: error: use of unresolved identifier 'CFNetworkCopySystemProxySettings'\n    if let proxySettingsUnmanaged = CFNetworkCopySystemProxySettings() {\n                                    ^~~~~~~~~~~~~~~~~~~~~~~~~~~~~~~~\n\n"
          ]
        }
      ]
    }
  ]
}