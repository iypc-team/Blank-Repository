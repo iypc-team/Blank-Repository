{
  "nbformat": 4,
  "nbformat_minor": 0,
  "metadata": {
    "colab": {
      "name": "Differentiable_swift_2.ipynb",
      "provenance": [],
      "collapsed_sections": [],
      "include_colab_link": true
    },
    "kernelspec": {
      "name": "swift",
      "display_name": "Swift"
    }
  },
  "cells": [
    {
      "cell_type": "markdown",
      "metadata": {
        "id": "view-in-github",
        "colab_type": "text"
      },
      "source": [
        "<a href=\"https://colab.research.google.com/github/iypc-team/Swift/blob/master/Differentiable_swift_2.ipynb\" target=\"_parent\"><img src=\"https://colab.research.google.com/assets/colab-badge.svg\" alt=\"Open In Colab\"/></a>"
      ]
    },
    {
      "cell_type": "code",
      "metadata": {
        "id": "EgI0gsf6IuoT",
        "colab_type": "code",
        "colab": {}
      },
      "source": [
        "import Glibc\n",
        "import TensorFlow\n",
        "import Foundation\n",
        "import Dispatch\n",
        "\n",
        "//  DispatchQueue.init(label: , qos: , attributes: , autoreleaseFrequency: , target: \n",
        "let mainQueue = DispatchQueue.main.async {}\n",
        "let globalQueue = DispatchQueue.global(qos: .default)\n",
        "var tv: Tensor<Float>\n",
        "\n",
        "struct Parameter: Differentiable{ //, ParameterGroup {\n",
        "    init(w1:Tensor<Float>, b1:Tensor<Float>, w2:Tensor<Float>, b2:Tensor<Float>) {\n",
        "        var w1 = Tensor<Float>(randomNormal: [784, 30])\n",
        "        var b1 = Tensor<Float>(zeros: [30])\n",
        "        var w2 = Tensor<Float>(randomNormal: [30, 10])\n",
        "        var b2 = Tensor<Float>(zeros: [10])\n",
        "    }\n",
        "}\n",
        "\n",
        "class Test: Differentiable {\n",
        "\n",
        "}"
      ],
      "execution_count": 1,
      "outputs": []
    },
    {
      "cell_type": "code",
      "metadata": {
        "id": "1-s9RdZv_jAl",
        "colab_type": "code",
        "colab": {
          "base_uri": "https://localhost:8080/",
          "height": 35
        },
        "outputId": "dd53fc06-de55-40a9-b502-7c2e53424c87"
      },
      "source": [
        "Test.self"
      ],
      "execution_count": null,
      "outputs": [
        {
          "output_type": "execute_result",
          "data": {
            "text/plain": [
              "__lldb_expr_93.Test\n"
            ]
          },
          "metadata": {
            "tags": []
          },
          "execution_count": 25
        }
      ]
    },
    {
      "cell_type": "code",
      "metadata": {
        "id": "WCJP6b-CrYoQ",
        "colab_type": "code",
        "colab": {}
      },
      "source": [
        ""
      ],
      "execution_count": null,
      "outputs": []
    }
  ]
}